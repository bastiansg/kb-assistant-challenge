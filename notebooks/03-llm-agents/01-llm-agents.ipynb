{
 "cells": [
  {
   "cell_type": "code",
   "execution_count": null,
   "id": "6af50e65",
   "metadata": {},
   "outputs": [],
   "source": [
    "from pydantic_ai import Agent"
   ]
  },
  {
   "cell_type": "code",
   "execution_count": null,
   "id": "b7ee9c0d",
   "metadata": {},
   "outputs": [],
   "source": [
    "# NOTE: https://ai.pydantic.dev/"
   ]
  },
  {
   "cell_type": "code",
   "execution_count": null,
   "id": "d508715a",
   "metadata": {},
   "outputs": [],
   "source": [
    "agent = Agent(\n",
    "    \"openai:gpt-4.1-mini-2025-04-14\",\n",
    "    system_prompt=\"Be concise, reply with one sentence.\",\n",
    ")\n",
    "\n",
    "result = await agent.run('Where does \"hello world\" come from?')\n",
    "print(result.output)"
   ]
  },
  {
   "cell_type": "code",
   "execution_count": null,
   "id": "cf373385",
   "metadata": {},
   "outputs": [],
   "source": []
  }
 ],
 "metadata": {
  "kernelspec": {
   "display_name": "Python 3",
   "language": "python",
   "name": "python3"
  },
  "language_info": {
   "codemirror_mode": {
    "name": "ipython",
    "version": 3
   },
   "file_extension": ".py",
   "mimetype": "text/x-python",
   "name": "python",
   "nbconvert_exporter": "python",
   "pygments_lexer": "ipython3",
   "version": "3.12.3"
  }
 },
 "nbformat": 4,
 "nbformat_minor": 5
}
