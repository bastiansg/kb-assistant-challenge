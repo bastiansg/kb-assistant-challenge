{
 "cells": [
  {
   "cell_type": "code",
   "execution_count": null,
   "id": "7c604494",
   "metadata": {},
   "outputs": [],
   "source": [
    "import uuid\n",
    "\n",
    "from rich.pretty import pprint\n",
    "\n",
    "from langchain_openai import OpenAIEmbeddings\n",
    "from langchain_qdrant import QdrantVectorStore\n",
    "from langchain_core.documents import Document\n",
    "\n",
    "from qdrant_client import QdrantClient\n",
    "from qdrant_client.http.models import Distance, VectorParams"
   ]
  },
  {
   "cell_type": "code",
   "execution_count": null,
   "id": "c336512c",
   "metadata": {},
   "outputs": [],
   "source": [
    "# NOTE: https://python.langchain.com/docs/integrations/vectorstores/qdrant/\n",
    "EMBEDDING_DIMS = 256"
   ]
  },
  {
   "cell_type": "code",
   "execution_count": null,
   "id": "68694fd6",
   "metadata": {},
   "outputs": [],
   "source": [
    "client = QdrantClient(\":memory:\")\n",
    "client.create_collection(\n",
    "    collection_name=\"demo_collection\",\n",
    "    vectors_config=VectorParams(\n",
    "        size=EMBEDDING_DIMS,\n",
    "        distance=Distance.COSINE,\n",
    "    ),\n",
    ")"
   ]
  },
  {
   "cell_type": "code",
   "execution_count": null,
   "id": "3dfaf504",
   "metadata": {},
   "outputs": [],
   "source": [
    "embeddings = OpenAIEmbeddings(\n",
    "    model=\"text-embedding-3-large\",\n",
    "    dimensions=EMBEDDING_DIMS,\n",
    ")\n",
    "\n",
    "vector_store = QdrantVectorStore(\n",
    "    client=client,\n",
    "    collection_name=\"demo_collection\",\n",
    "    embedding=embeddings,\n",
    ")"
   ]
  },
  {
   "cell_type": "code",
   "execution_count": null,
   "id": "bfc6ef6a",
   "metadata": {},
   "outputs": [],
   "source": [
    "documents = [\n",
    "    Document(\n",
    "        page_content=\"I had chocolate chip pancakes and scrambled eggs for breakfast this morning.\",\n",
    "        metadata={\n",
    "            \"source\": \"tweet\",\n",
    "        },\n",
    "    ),\n",
    "    Document(\n",
    "        page_content=\"The weather forecast for tomorrow is cloudy and overcast, with a high of 62 degrees Fahrenheit.\",\n",
    "        metadata={\n",
    "            \"source\": \"news\",\n",
    "        },\n",
    "    ),\n",
    "    Document(\n",
    "        page_content=\"Robbers broke into the city bank and stole $1 million in cash.\",\n",
    "        metadata={\n",
    "            \"source\": \"news\",\n",
    "        },\n",
    "    ),\n",
    "    Document(\n",
    "        page_content=\"Wow! That was an amazing movie. I can't wait to see it again.\",\n",
    "        metadata={\n",
    "            \"source\": \"tweet\",\n",
    "        },\n",
    "    ),\n",
    "]\n",
    "\n",
    "uuids = [str(uuid.uuid4()) for _ in range(len(documents))]\n",
    "_ = vector_store.add_documents(\n",
    "    documents=documents,\n",
    "    ids=uuids,\n",
    ")"
   ]
  },
  {
   "cell_type": "code",
   "execution_count": null,
   "id": "ee0c32d2",
   "metadata": {},
   "outputs": [],
   "source": [
    "results = vector_store.similarity_search_with_score(\"Movies\", k=2)\n",
    "pprint(results)"
   ]
  },
  {
   "cell_type": "code",
   "execution_count": null,
   "id": "86623770",
   "metadata": {},
   "outputs": [],
   "source": []
  }
 ],
 "metadata": {
  "kernelspec": {
   "display_name": "Python 3",
   "language": "python",
   "name": "python3"
  },
  "language_info": {
   "codemirror_mode": {
    "name": "ipython",
    "version": 3
   },
   "file_extension": ".py",
   "mimetype": "text/x-python",
   "name": "python",
   "nbconvert_exporter": "python",
   "pygments_lexer": "ipython3",
   "version": "3.12.3"
  }
 },
 "nbformat": 4,
 "nbformat_minor": 5
}
