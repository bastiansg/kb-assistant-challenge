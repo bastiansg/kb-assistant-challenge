{
 "cells": [
  {
   "cell_type": "code",
   "execution_count": null,
   "id": "674d8ab4",
   "metadata": {},
   "outputs": [],
   "source": [
    "from rich.pretty import pprint\n",
    "from kbac.loaders import MatrixScriptLoader"
   ]
  },
  {
   "cell_type": "code",
   "execution_count": null,
   "id": "24342254",
   "metadata": {},
   "outputs": [],
   "source": [
    "loader = MatrixScriptLoader()\n",
    "documents = loader.load()\n",
    "\n",
    "pprint(documents[:10])"
   ]
  },
  {
   "cell_type": "code",
   "execution_count": null,
   "id": "d66a3346",
   "metadata": {},
   "outputs": [],
   "source": []
  }
 ],
 "metadata": {
  "kernelspec": {
   "display_name": "Python 3",
   "language": "python",
   "name": "python3"
  },
  "language_info": {
   "codemirror_mode": {
    "name": "ipython",
    "version": 3
   },
   "file_extension": ".py",
   "mimetype": "text/x-python",
   "name": "python",
   "nbconvert_exporter": "python",
   "pygments_lexer": "ipython3",
   "version": "3.12.3"
  }
 },
 "nbformat": 4,
 "nbformat_minor": 5
}
